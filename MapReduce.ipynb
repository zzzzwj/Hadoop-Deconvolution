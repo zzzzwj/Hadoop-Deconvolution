{
 "cells": [
  {
   "cell_type": "code",
   "execution_count": 28,
   "metadata": {},
   "outputs": [],
   "source": [
    "import cv2\n",
    "import sys\n",
    "import struct\n",
    "import imageio\n",
    "import numpy as np\n",
    "from libtiff import TIFF\n",
    "\n",
    "def ReadTiff(filename):\n",
    "#     img = imageio.imread(filename)\n",
    "    img = np.array(cv2.imread(filename, cv2.IMREAD_UNCHANGED))\n",
    "    return img\n",
    "\n",
    "def tiff_to_image_array(tiff_image_name): \n",
    "          \n",
    "    tif = TIFF.open(tiff_image_name, mode = \"r\")\n",
    "    res = []\n",
    "    for im in list(tif.iter_images()):\n",
    "        res.append(im)\n",
    "    return res\n",
    "\n",
    "def header(shape, bits):\n",
    "    res = []\n",
    "    for i in shape:\n",
    "        res.append(uint32_to_byte(i))\n",
    "    res.append(uint32_to_byte(bits))\n",
    "    return res\n",
    "\n",
    "def uint32_to_byte(value):\n",
    "    return int.to_bytes(value, 4, byteorder='big', signed=False)\n",
    "\n",
    "def uint16_to_byte(value):\n",
    "    return int.to_bytes(value, 2, byteorder='big', signed=False)\n",
    "\n",
    "def uint8_to_byte(value):\n",
    "    return int.to_bytes(value, 1, byteorder='big', signed=False)\n",
    "\n",
    "def bytes_to_int(value):\n",
    "    return int.from_bytes(value, byteorder='big', signed=False)\n",
    "\n"
   ]
  },
  {
   "cell_type": "code",
   "execution_count": null,
   "metadata": {},
   "outputs": [],
   "source": [
    "# np.linspace仅是为了方便调试生成的测试数据，生成正式的图像文件可去掉第一行注释\n",
    "# img = np.array(tiff_to_image_array('/home/zwj/Desktop/120tp_2_f1_c1.tif'))\n",
    "img = np.linspace(1, 72, 72).reshape(3,4,6)\n",
    "\n",
    "# 图像解构\n",
    "img = img.transpose((1,2,0))\n",
    "print(img.shape)\n",
    "# print(img[:,:,2])\n",
    "shape = img.shape\n",
    "head_info = header(shape, 16)\n",
    "img_bytes = []\n",
    "for k in range(img.shape[2]):\n",
    "    for i in range(img.shape[0]):\n",
    "        for j in range(img.shape[1]):\n",
    "            img_bytes.append(uint16_to_byte(int(img[i,j,k])))\n",
    "\n",
    "with open('/home/zwj/Desktop/img.bin', 'wb') as f:\n",
    "    for i in head_info:\n",
    "        f.write(i)\n",
    "    for i in img_bytes:\n",
    "        f.write(i)\n",
    "print('Done.')"
   ]
  },
  {
   "cell_type": "code",
   "execution_count": 31,
   "metadata": {},
   "outputs": [
    {
     "name": "stdout",
     "output_type": "stream",
     "text": [
      "72\n"
     ]
    }
   ],
   "source": [
    "import numpy as np\n",
    "\n",
    "# 图像重构，便于显示\n",
    "with open('/home/zwj/IntellijProjects/BigData/img.bin', 'rb') as f:\n",
    "    data = f.read()\n",
    "    x, y, z = bytes_to_int(data[0:4]), bytes_to_int(data[4:8]), bytes_to_int(data[8:12])\n",
    "    offset = bytes_to_int(data[12:16]) // 8\n",
    "    data = data[16:]\n",
    "    img = np.zeros((x,y,z)).astype(np.uint16)\n",
    "    length = 0\n",
    "    for k in range(img.shape[2]):\n",
    "        for i in range(img.shape[0]):\n",
    "            for j in range(img.shape[1]):\n",
    "                img[i,j,k] = bytes_to_int(data[length : length + offset])\n",
    "                length += offset\n",
    "    \n",
    "    srcimg = np.linspace(1, 72, 72).reshape(3,4,6)\n",
    "    srcimg = srcimg.transpose((1,2,0))\n",
    "    print((srcimg == img).sum())"
   ]
  }
 ],
 "metadata": {
  "kernelspec": {
   "display_name": "Python 3",
   "language": "python",
   "name": "python3"
  },
  "language_info": {
   "codemirror_mode": {
    "name": "ipython",
    "version": 3
   },
   "file_extension": ".py",
   "mimetype": "text/x-python",
   "name": "python",
   "nbconvert_exporter": "python",
   "pygments_lexer": "ipython3",
   "version": "3.6.5"
  }
 },
 "nbformat": 4,
 "nbformat_minor": 2
}
